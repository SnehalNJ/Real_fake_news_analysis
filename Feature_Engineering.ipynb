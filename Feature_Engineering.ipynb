{
 "cells": [
  {
   "cell_type": "markdown",
   "id": "ce3993a9-7d08-4887-86cd-e4dcdefecbb7",
   "metadata": {},
   "source": [
    "## Importing Libraries and Data sets"
   ]
  },
  {
   "cell_type": "code",
   "execution_count": 1,
   "id": "a2fbdd20-dda6-47c6-8226-d6d081ee0d4b",
   "metadata": {},
   "outputs": [],
   "source": [
    "import pandas as pd\n",
    "import numpy as np\n",
    "import matplotlib.pyplot as plt\n",
    "import seaborn as sns\n",
    "import warnings\n",
    "warnings.filterwarnings(\"ignore\")\n",
    "from sklearn.feature_extraction.text import TfidfVectorizer\n",
    "from sklearn.model_selection import train_test_split"
   ]
  },
  {
   "cell_type": "code",
   "execution_count": 2,
   "id": "e764fea0-dc76-45d1-a223-2495fde43a86",
   "metadata": {},
   "outputs": [],
   "source": [
    "df_real = pd.read_csv(r\"True.csv\",encoding='latin1',on_bad_lines='skip')\n",
    "df_fake = pd.read_csv(r\"Fake.csv\",encoding='latin1',on_bad_lines='skip')"
   ]
  },
  {
   "cell_type": "markdown",
   "id": "3f1d112a-d143-4669-b64d-1694e1f3f8ac",
   "metadata": {},
   "source": [
    "#### Adding labels to our datasetes 1 - for real news and 0 - for fake news,"
   ]
  },
  {
   "cell_type": "code",
   "execution_count": 3,
   "id": "bc231848-da3b-4821-a2d9-f5e714932836",
   "metadata": {},
   "outputs": [],
   "source": [
    "df_real['Label'] = 1\n",
    "df_fake['Label'] = 0"
   ]
  },
  {
   "cell_type": "markdown",
   "id": "f3f93591-9475-4799-82bd-8308ef1fb05a",
   "metadata": {},
   "source": [
    "#### Cheacking data shapes"
   ]
  },
  {
   "cell_type": "code",
   "execution_count": 4,
   "id": "6197615c-e68b-414b-9389-c5901a97b7a2",
   "metadata": {},
   "outputs": [
    {
     "data": {
      "text/plain": [
       "('Real data set: (21416, 5)', 'Fake data set: (23481, 5)')"
      ]
     },
     "execution_count": 4,
     "metadata": {},
     "output_type": "execute_result"
    }
   ],
   "source": [
    "(\"Real data set: {}\".format(df_real.shape) ,\"Fake data set: {}\".format(df_fake.shape))"
   ]
  },
  {
   "cell_type": "markdown",
   "id": "a8ce233b-728f-4267-ade4-552a40769355",
   "metadata": {},
   "source": [
    "## Combining the data"
   ]
  },
  {
   "cell_type": "code",
   "execution_count": 5,
   "id": "58c31322-4382-49d0-bdc8-786f3c6f21f1",
   "metadata": {},
   "outputs": [
    {
     "data": {
      "text/html": [
       "<div>\n",
       "<style scoped>\n",
       "    .dataframe tbody tr th:only-of-type {\n",
       "        vertical-align: middle;\n",
       "    }\n",
       "\n",
       "    .dataframe tbody tr th {\n",
       "        vertical-align: top;\n",
       "    }\n",
       "\n",
       "    .dataframe thead th {\n",
       "        text-align: right;\n",
       "    }\n",
       "</style>\n",
       "<table border=\"1\" class=\"dataframe\">\n",
       "  <thead>\n",
       "    <tr style=\"text-align: right;\">\n",
       "      <th></th>\n",
       "      <th>title</th>\n",
       "      <th>text</th>\n",
       "      <th>subject</th>\n",
       "      <th>date</th>\n",
       "      <th>Label</th>\n",
       "    </tr>\n",
       "  </thead>\n",
       "  <tbody>\n",
       "    <tr>\n",
       "      <th>0</th>\n",
       "      <td>As U.S. budget fight looms, Republicans flip t...</td>\n",
       "      <td>WASHINGTON (Reuters) - The head of a conservat...</td>\n",
       "      <td>politicsNews</td>\n",
       "      <td>December 31, 2017</td>\n",
       "      <td>1</td>\n",
       "    </tr>\n",
       "    <tr>\n",
       "      <th>1</th>\n",
       "      <td>U.S. military to accept transgender recruits o...</td>\n",
       "      <td>WASHINGTON (Reuters) - Transgender people will...</td>\n",
       "      <td>politicsNews</td>\n",
       "      <td>December 29, 2017</td>\n",
       "      <td>1</td>\n",
       "    </tr>\n",
       "    <tr>\n",
       "      <th>2</th>\n",
       "      <td>Senior U.S. Republican senator: 'Let Mr. Muell...</td>\n",
       "      <td>WASHINGTON (Reuters) - The special counsel inv...</td>\n",
       "      <td>politicsNews</td>\n",
       "      <td>December 31, 2017</td>\n",
       "      <td>1</td>\n",
       "    </tr>\n",
       "    <tr>\n",
       "      <th>3</th>\n",
       "      <td>FBI Russia probe helped by Australian diplomat...</td>\n",
       "      <td>WASHINGTON (Reuters) - Trump campaign adviser ...</td>\n",
       "      <td>politicsNews</td>\n",
       "      <td>December 30, 2017</td>\n",
       "      <td>1</td>\n",
       "    </tr>\n",
       "    <tr>\n",
       "      <th>4</th>\n",
       "      <td>Trump wants Postal Service to charge 'much mor...</td>\n",
       "      <td>SEATTLE/WASHINGTON (Reuters) - President Donal...</td>\n",
       "      <td>politicsNews</td>\n",
       "      <td>December 29, 2017</td>\n",
       "      <td>1</td>\n",
       "    </tr>\n",
       "    <tr>\n",
       "      <th>...</th>\n",
       "      <td>...</td>\n",
       "      <td>...</td>\n",
       "      <td>...</td>\n",
       "      <td>...</td>\n",
       "      <td>...</td>\n",
       "    </tr>\n",
       "    <tr>\n",
       "      <th>23476</th>\n",
       "      <td>McPain: John McCain Furious That Iran Treated ...</td>\n",
       "      <td>21st Century Wire says As 21WIRE reported earl...</td>\n",
       "      <td>Middle-east</td>\n",
       "      <td>January 16, 2016</td>\n",
       "      <td>0</td>\n",
       "    </tr>\n",
       "    <tr>\n",
       "      <th>23477</th>\n",
       "      <td>JUSTICE? Yahoo Settles E-mail Privacy Class-ac...</td>\n",
       "      <td>21st Century Wire says It s a familiar theme. ...</td>\n",
       "      <td>Middle-east</td>\n",
       "      <td>January 16, 2016</td>\n",
       "      <td>0</td>\n",
       "    </tr>\n",
       "    <tr>\n",
       "      <th>23478</th>\n",
       "      <td>Sunnistan: US and Allied \u0018Safe Zone\u0019 Plan to T...</td>\n",
       "      <td>Patrick Henningsen  21st Century WireRemember ...</td>\n",
       "      <td>Middle-east</td>\n",
       "      <td>January 15, 2016</td>\n",
       "      <td>0</td>\n",
       "    </tr>\n",
       "    <tr>\n",
       "      <th>23479</th>\n",
       "      <td>How to Blow $700 Million: Al Jazeera America F...</td>\n",
       "      <td>21st Century Wire says Al Jazeera America will...</td>\n",
       "      <td>Middle-east</td>\n",
       "      <td>January 14, 2016</td>\n",
       "      <td>0</td>\n",
       "    </tr>\n",
       "    <tr>\n",
       "      <th>23480</th>\n",
       "      <td>10 U.S. Navy Sailors Held by Iranian Military ...</td>\n",
       "      <td>21st Century Wire says As 21WIRE predicted in ...</td>\n",
       "      <td>Middle-east</td>\n",
       "      <td>January 12, 2016</td>\n",
       "      <td>0</td>\n",
       "    </tr>\n",
       "  </tbody>\n",
       "</table>\n",
       "<p>44897 rows × 5 columns</p>\n",
       "</div>"
      ],
      "text/plain": [
       "                                                   title  \\\n",
       "0      As U.S. budget fight looms, Republicans flip t...   \n",
       "1      U.S. military to accept transgender recruits o...   \n",
       "2      Senior U.S. Republican senator: 'Let Mr. Muell...   \n",
       "3      FBI Russia probe helped by Australian diplomat...   \n",
       "4      Trump wants Postal Service to charge 'much mor...   \n",
       "...                                                  ...   \n",
       "23476  McPain: John McCain Furious That Iran Treated ...   \n",
       "23477  JUSTICE? Yahoo Settles E-mail Privacy Class-ac...   \n",
       "23478  Sunnistan: US and Allied \u0018Safe Zone\u0019 Plan to T...   \n",
       "23479  How to Blow $700 Million: Al Jazeera America F...   \n",
       "23480  10 U.S. Navy Sailors Held by Iranian Military ...   \n",
       "\n",
       "                                                    text       subject  \\\n",
       "0      WASHINGTON (Reuters) - The head of a conservat...  politicsNews   \n",
       "1      WASHINGTON (Reuters) - Transgender people will...  politicsNews   \n",
       "2      WASHINGTON (Reuters) - The special counsel inv...  politicsNews   \n",
       "3      WASHINGTON (Reuters) - Trump campaign adviser ...  politicsNews   \n",
       "4      SEATTLE/WASHINGTON (Reuters) - President Donal...  politicsNews   \n",
       "...                                                  ...           ...   \n",
       "23476  21st Century Wire says As 21WIRE reported earl...   Middle-east   \n",
       "23477  21st Century Wire says It s a familiar theme. ...   Middle-east   \n",
       "23478  Patrick Henningsen  21st Century WireRemember ...   Middle-east   \n",
       "23479  21st Century Wire says Al Jazeera America will...   Middle-east   \n",
       "23480  21st Century Wire says As 21WIRE predicted in ...   Middle-east   \n",
       "\n",
       "                     date  Label  \n",
       "0      December 31, 2017       1  \n",
       "1      December 29, 2017       1  \n",
       "2      December 31, 2017       1  \n",
       "3      December 30, 2017       1  \n",
       "4      December 29, 2017       1  \n",
       "...                   ...    ...  \n",
       "23476    January 16, 2016      0  \n",
       "23477    January 16, 2016      0  \n",
       "23478    January 15, 2016      0  \n",
       "23479    January 14, 2016      0  \n",
       "23480    January 12, 2016      0  \n",
       "\n",
       "[44897 rows x 5 columns]"
      ]
     },
     "execution_count": 5,
     "metadata": {},
     "output_type": "execute_result"
    }
   ],
   "source": [
    "df = pd.concat([df_real,df_fake])\n",
    "df"
   ]
  },
  {
   "cell_type": "code",
   "execution_count": 6,
   "id": "21c9d97d-7a6f-4956-9e50-20c66eb7ccf2",
   "metadata": {},
   "outputs": [
    {
     "data": {
      "text/html": [
       "<div>\n",
       "<style scoped>\n",
       "    .dataframe tbody tr th:only-of-type {\n",
       "        vertical-align: middle;\n",
       "    }\n",
       "\n",
       "    .dataframe tbody tr th {\n",
       "        vertical-align: top;\n",
       "    }\n",
       "\n",
       "    .dataframe thead th {\n",
       "        text-align: right;\n",
       "    }\n",
       "</style>\n",
       "<table border=\"1\" class=\"dataframe\">\n",
       "  <thead>\n",
       "    <tr style=\"text-align: right;\">\n",
       "      <th></th>\n",
       "      <th>title</th>\n",
       "      <th>text</th>\n",
       "      <th>subject</th>\n",
       "      <th>date</th>\n",
       "      <th>Label</th>\n",
       "    </tr>\n",
       "  </thead>\n",
       "  <tbody>\n",
       "    <tr>\n",
       "      <th>0</th>\n",
       "      <td>Kenya not at risk of constitutional crisis ahe...</td>\n",
       "      <td>NAIROBI (Reuters) - Kenya will not face a cons...</td>\n",
       "      <td>worldnews</td>\n",
       "      <td>September 22, 2017</td>\n",
       "      <td>1</td>\n",
       "    </tr>\n",
       "    <tr>\n",
       "      <th>1</th>\n",
       "      <td>Suicide bombers attack Damascus police center:...</td>\n",
       "      <td>BEIRUT (Reuters) - Three men blew themselves u...</td>\n",
       "      <td>worldnews</td>\n",
       "      <td>October 11, 2017</td>\n",
       "      <td>1</td>\n",
       "    </tr>\n",
       "    <tr>\n",
       "      <th>2</th>\n",
       "      <td>Attack on Trump: Mitt Romney Just \u0018Awoke a Sle...</td>\n",
       "      <td>21st Century Wire says Did Mitt Romney just ma...</td>\n",
       "      <td>Middle-east</td>\n",
       "      <td>March 6, 2016</td>\n",
       "      <td>0</td>\n",
       "    </tr>\n",
       "    <tr>\n",
       "      <th>3</th>\n",
       "      <td>Under fire, Trump's attorney general removes h...</td>\n",
       "      <td>WASHINGTON (Reuters) - U.S. Attorney General J...</td>\n",
       "      <td>politicsNews</td>\n",
       "      <td>March 2, 2017</td>\n",
       "      <td>1</td>\n",
       "    </tr>\n",
       "    <tr>\n",
       "      <th>4</th>\n",
       "      <td>GAME ON! UC Berkeley BANS Ann Coulter From Imm...</td>\n",
       "      <td>THE BIRTHPLACE OF FREE SPEECH IS NOW OFFICIALL...</td>\n",
       "      <td>left-news</td>\n",
       "      <td>Apr 19, 2017</td>\n",
       "      <td>0</td>\n",
       "    </tr>\n",
       "    <tr>\n",
       "      <th>...</th>\n",
       "      <td>...</td>\n",
       "      <td>...</td>\n",
       "      <td>...</td>\n",
       "      <td>...</td>\n",
       "      <td>...</td>\n",
       "    </tr>\n",
       "    <tr>\n",
       "      <th>44892</th>\n",
       "      <td>Thailand's political activity ban stays for no...</td>\n",
       "      <td>BANGKOK (Reuters) - Thailand s military govern...</td>\n",
       "      <td>worldnews</td>\n",
       "      <td>October 31, 2017</td>\n",
       "      <td>1</td>\n",
       "    </tr>\n",
       "    <tr>\n",
       "      <th>44893</th>\n",
       "      <td>Trump adviser, on Moscow visit, dodges questio...</td>\n",
       "      <td>MOSCOW (Reuters) - A foreign-policy adviser to...</td>\n",
       "      <td>politicsNews</td>\n",
       "      <td>July 7, 2016</td>\n",
       "      <td>1</td>\n",
       "    </tr>\n",
       "    <tr>\n",
       "      <th>44894</th>\n",
       "      <td>WATCH: Donald Trump Fits In Perfectly As Vill...</td>\n",
       "      <td>Donald Trump s statements are frightening to t...</td>\n",
       "      <td>News</td>\n",
       "      <td>February 22, 2016</td>\n",
       "      <td>0</td>\n",
       "    </tr>\n",
       "    <tr>\n",
       "      <th>44895</th>\n",
       "      <td>'Brexit not a game,' EU's Barnier says</td>\n",
       "      <td>LONDON (Reuters) -  Brexit is not a game,  the...</td>\n",
       "      <td>worldnews</td>\n",
       "      <td>October 10, 2017</td>\n",
       "      <td>1</td>\n",
       "    </tr>\n",
       "    <tr>\n",
       "      <th>44896</th>\n",
       "      <td>U.S.-backed SDF says Raqqa campaign in final s...</td>\n",
       "      <td>BEIRUT (Reuters) - The U.S.-backed Syrian Demo...</td>\n",
       "      <td>worldnews</td>\n",
       "      <td>September 20, 2017</td>\n",
       "      <td>1</td>\n",
       "    </tr>\n",
       "  </tbody>\n",
       "</table>\n",
       "<p>44897 rows × 5 columns</p>\n",
       "</div>"
      ],
      "text/plain": [
       "                                                   title  \\\n",
       "0      Kenya not at risk of constitutional crisis ahe...   \n",
       "1      Suicide bombers attack Damascus police center:...   \n",
       "2      Attack on Trump: Mitt Romney Just \u0018Awoke a Sle...   \n",
       "3      Under fire, Trump's attorney general removes h...   \n",
       "4      GAME ON! UC Berkeley BANS Ann Coulter From Imm...   \n",
       "...                                                  ...   \n",
       "44892  Thailand's political activity ban stays for no...   \n",
       "44893  Trump adviser, on Moscow visit, dodges questio...   \n",
       "44894   WATCH: Donald Trump Fits In Perfectly As Vill...   \n",
       "44895             'Brexit not a game,' EU's Barnier says   \n",
       "44896  U.S.-backed SDF says Raqqa campaign in final s...   \n",
       "\n",
       "                                                    text       subject  \\\n",
       "0      NAIROBI (Reuters) - Kenya will not face a cons...     worldnews   \n",
       "1      BEIRUT (Reuters) - Three men blew themselves u...     worldnews   \n",
       "2      21st Century Wire says Did Mitt Romney just ma...   Middle-east   \n",
       "3      WASHINGTON (Reuters) - U.S. Attorney General J...  politicsNews   \n",
       "4      THE BIRTHPLACE OF FREE SPEECH IS NOW OFFICIALL...     left-news   \n",
       "...                                                  ...           ...   \n",
       "44892  BANGKOK (Reuters) - Thailand s military govern...     worldnews   \n",
       "44893  MOSCOW (Reuters) - A foreign-policy adviser to...  politicsNews   \n",
       "44894  Donald Trump s statements are frightening to t...          News   \n",
       "44895  LONDON (Reuters) -  Brexit is not a game,  the...     worldnews   \n",
       "44896  BEIRUT (Reuters) - The U.S.-backed Syrian Demo...     worldnews   \n",
       "\n",
       "                      date  Label  \n",
       "0      September 22, 2017       1  \n",
       "1        October 11, 2017       1  \n",
       "2            March 6, 2016      0  \n",
       "3           March 2, 2017       1  \n",
       "4             Apr 19, 2017      0  \n",
       "...                    ...    ...  \n",
       "44892    October 31, 2017       1  \n",
       "44893        July 7, 2016       1  \n",
       "44894    February 22, 2016      0  \n",
       "44895    October 10, 2017       1  \n",
       "44896  September 20, 2017       1  \n",
       "\n",
       "[44897 rows x 5 columns]"
      ]
     },
     "execution_count": 6,
     "metadata": {},
     "output_type": "execute_result"
    }
   ],
   "source": [
    "df = df.sample(frac=1).reset_index(drop=True)\n",
    "df\n"
   ]
  },
  {
   "cell_type": "markdown",
   "id": "58e0bf11-fd0c-4dab-b926-45ee1b80cd9d",
   "metadata": {},
   "source": [
    "## Cleaning the data"
   ]
  },
  {
   "cell_type": "code",
   "execution_count": 7,
   "id": "209075c4-f97c-4d1a-b152-a9410e22128e",
   "metadata": {},
   "outputs": [
    {
     "data": {
      "text/plain": [
       "(44897, 5)"
      ]
     },
     "execution_count": 7,
     "metadata": {},
     "output_type": "execute_result"
    }
   ],
   "source": [
    "df.shape"
   ]
  },
  {
   "cell_type": "code",
   "execution_count": 8,
   "id": "93020304-855b-473e-b390-27ee11c1a9e8",
   "metadata": {},
   "outputs": [
    {
     "name": "stdout",
     "output_type": "stream",
     "text": [
      "<class 'pandas.core.frame.DataFrame'>\n",
      "RangeIndex: 44897 entries, 0 to 44896\n",
      "Data columns (total 5 columns):\n",
      " #   Column   Non-Null Count  Dtype \n",
      "---  ------   --------------  ----- \n",
      " 0   title    44897 non-null  object\n",
      " 1   text     44897 non-null  object\n",
      " 2   subject  44897 non-null  object\n",
      " 3   date     44897 non-null  object\n",
      " 4   Label    44897 non-null  int64 \n",
      "dtypes: int64(1), object(4)\n",
      "memory usage: 1.7+ MB\n"
     ]
    }
   ],
   "source": [
    "df.info()"
   ]
  },
  {
   "cell_type": "markdown",
   "id": "772ce429-cdf5-4cc8-948a-f120c23cf8ce",
   "metadata": {},
   "source": [
    "#### Cheacking for null and duplicated values"
   ]
  },
  {
   "cell_type": "code",
   "execution_count": 9,
   "id": "68ac2ba7-78ea-46c2-b515-6aea48875e39",
   "metadata": {},
   "outputs": [
    {
     "data": {
      "text/plain": [
       "title      0\n",
       "text       0\n",
       "subject    0\n",
       "date       0\n",
       "Label      0\n",
       "dtype: int64"
      ]
     },
     "execution_count": 9,
     "metadata": {},
     "output_type": "execute_result"
    }
   ],
   "source": [
    "df.isnull().sum()"
   ]
  },
  {
   "cell_type": "code",
   "execution_count": 10,
   "id": "cb2c8a44-2dda-4340-80db-3b7619e2444d",
   "metadata": {},
   "outputs": [
    {
     "data": {
      "text/plain": [
       "209"
      ]
     },
     "execution_count": 10,
     "metadata": {},
     "output_type": "execute_result"
    }
   ],
   "source": [
    "df.duplicated().sum()"
   ]
  },
  {
   "cell_type": "code",
   "execution_count": 11,
   "id": "35920569-6798-4efa-8c93-8d72d16f71a8",
   "metadata": {},
   "outputs": [],
   "source": [
    "df.drop_duplicates(inplace=True)"
   ]
  },
  {
   "cell_type": "code",
   "execution_count": 12,
   "id": "59720156-0c65-408c-81ce-de24b09125c9",
   "metadata": {},
   "outputs": [
    {
     "data": {
      "text/plain": [
       "0"
      ]
     },
     "execution_count": 12,
     "metadata": {},
     "output_type": "execute_result"
    }
   ],
   "source": [
    "df.duplicated().sum()"
   ]
  },
  {
   "cell_type": "markdown",
   "id": "4a5dd39a-02ce-445b-b115-bfdbff3b85c1",
   "metadata": {},
   "source": [
    "#### For our Data `title` and `subject` and `Label` columns are important "
   ]
  },
  {
   "cell_type": "code",
   "execution_count": 13,
   "id": "b210fc3a-6a63-4c52-9e0e-9471b5aded52",
   "metadata": {},
   "outputs": [
    {
     "data": {
      "text/html": [
       "<div>\n",
       "<style scoped>\n",
       "    .dataframe tbody tr th:only-of-type {\n",
       "        vertical-align: middle;\n",
       "    }\n",
       "\n",
       "    .dataframe tbody tr th {\n",
       "        vertical-align: top;\n",
       "    }\n",
       "\n",
       "    .dataframe thead th {\n",
       "        text-align: right;\n",
       "    }\n",
       "</style>\n",
       "<table border=\"1\" class=\"dataframe\">\n",
       "  <thead>\n",
       "    <tr style=\"text-align: right;\">\n",
       "      <th></th>\n",
       "      <th>text</th>\n",
       "      <th>subject</th>\n",
       "      <th>Label</th>\n",
       "    </tr>\n",
       "  </thead>\n",
       "  <tbody>\n",
       "    <tr>\n",
       "      <th>0</th>\n",
       "      <td>NAIROBI (Reuters) - Kenya will not face a cons...</td>\n",
       "      <td>worldnews</td>\n",
       "      <td>1</td>\n",
       "    </tr>\n",
       "    <tr>\n",
       "      <th>1</th>\n",
       "      <td>BEIRUT (Reuters) - Three men blew themselves u...</td>\n",
       "      <td>worldnews</td>\n",
       "      <td>1</td>\n",
       "    </tr>\n",
       "    <tr>\n",
       "      <th>2</th>\n",
       "      <td>21st Century Wire says Did Mitt Romney just ma...</td>\n",
       "      <td>Middle-east</td>\n",
       "      <td>0</td>\n",
       "    </tr>\n",
       "    <tr>\n",
       "      <th>3</th>\n",
       "      <td>WASHINGTON (Reuters) - U.S. Attorney General J...</td>\n",
       "      <td>politicsNews</td>\n",
       "      <td>1</td>\n",
       "    </tr>\n",
       "    <tr>\n",
       "      <th>4</th>\n",
       "      <td>THE BIRTHPLACE OF FREE SPEECH IS NOW OFFICIALL...</td>\n",
       "      <td>left-news</td>\n",
       "      <td>0</td>\n",
       "    </tr>\n",
       "    <tr>\n",
       "      <th>...</th>\n",
       "      <td>...</td>\n",
       "      <td>...</td>\n",
       "      <td>...</td>\n",
       "    </tr>\n",
       "    <tr>\n",
       "      <th>44892</th>\n",
       "      <td>BANGKOK (Reuters) - Thailand s military govern...</td>\n",
       "      <td>worldnews</td>\n",
       "      <td>1</td>\n",
       "    </tr>\n",
       "    <tr>\n",
       "      <th>44893</th>\n",
       "      <td>MOSCOW (Reuters) - A foreign-policy adviser to...</td>\n",
       "      <td>politicsNews</td>\n",
       "      <td>1</td>\n",
       "    </tr>\n",
       "    <tr>\n",
       "      <th>44894</th>\n",
       "      <td>Donald Trump s statements are frightening to t...</td>\n",
       "      <td>News</td>\n",
       "      <td>0</td>\n",
       "    </tr>\n",
       "    <tr>\n",
       "      <th>44895</th>\n",
       "      <td>LONDON (Reuters) -  Brexit is not a game,  the...</td>\n",
       "      <td>worldnews</td>\n",
       "      <td>1</td>\n",
       "    </tr>\n",
       "    <tr>\n",
       "      <th>44896</th>\n",
       "      <td>BEIRUT (Reuters) - The U.S.-backed Syrian Demo...</td>\n",
       "      <td>worldnews</td>\n",
       "      <td>1</td>\n",
       "    </tr>\n",
       "  </tbody>\n",
       "</table>\n",
       "<p>44688 rows × 3 columns</p>\n",
       "</div>"
      ],
      "text/plain": [
       "                                                    text       subject  Label\n",
       "0      NAIROBI (Reuters) - Kenya will not face a cons...     worldnews      1\n",
       "1      BEIRUT (Reuters) - Three men blew themselves u...     worldnews      1\n",
       "2      21st Century Wire says Did Mitt Romney just ma...   Middle-east      0\n",
       "3      WASHINGTON (Reuters) - U.S. Attorney General J...  politicsNews      1\n",
       "4      THE BIRTHPLACE OF FREE SPEECH IS NOW OFFICIALL...     left-news      0\n",
       "...                                                  ...           ...    ...\n",
       "44892  BANGKOK (Reuters) - Thailand s military govern...     worldnews      1\n",
       "44893  MOSCOW (Reuters) - A foreign-policy adviser to...  politicsNews      1\n",
       "44894  Donald Trump s statements are frightening to t...          News      0\n",
       "44895  LONDON (Reuters) -  Brexit is not a game,  the...     worldnews      1\n",
       "44896  BEIRUT (Reuters) - The U.S.-backed Syrian Demo...     worldnews      1\n",
       "\n",
       "[44688 rows x 3 columns]"
      ]
     },
     "execution_count": 13,
     "metadata": {},
     "output_type": "execute_result"
    }
   ],
   "source": [
    "new_df = df[['text','subject','Label']]\n",
    "new_df"
   ]
  },
  {
   "cell_type": "code",
   "execution_count": 14,
   "id": "bdc2df5d-92d7-4f77-9471-1dc8cd142d18",
   "metadata": {},
   "outputs": [
    {
     "data": {
      "text/html": [
       "<div>\n",
       "<style scoped>\n",
       "    .dataframe tbody tr th:only-of-type {\n",
       "        vertical-align: middle;\n",
       "    }\n",
       "\n",
       "    .dataframe tbody tr th {\n",
       "        vertical-align: top;\n",
       "    }\n",
       "\n",
       "    .dataframe thead th {\n",
       "        text-align: right;\n",
       "    }\n",
       "</style>\n",
       "<table border=\"1\" class=\"dataframe\">\n",
       "  <thead>\n",
       "    <tr style=\"text-align: right;\">\n",
       "      <th></th>\n",
       "      <th>text</th>\n",
       "      <th>subject</th>\n",
       "      <th>Label</th>\n",
       "      <th>complete_text</th>\n",
       "    </tr>\n",
       "  </thead>\n",
       "  <tbody>\n",
       "    <tr>\n",
       "      <th>0</th>\n",
       "      <td>NAIROBI (Reuters) - Kenya will not face a cons...</td>\n",
       "      <td>worldnews</td>\n",
       "      <td>1</td>\n",
       "      <td>NAIROBI (Reuters) - Kenya will not face a cons...</td>\n",
       "    </tr>\n",
       "    <tr>\n",
       "      <th>1</th>\n",
       "      <td>BEIRUT (Reuters) - Three men blew themselves u...</td>\n",
       "      <td>worldnews</td>\n",
       "      <td>1</td>\n",
       "      <td>BEIRUT (Reuters) - Three men blew themselves u...</td>\n",
       "    </tr>\n",
       "    <tr>\n",
       "      <th>2</th>\n",
       "      <td>21st Century Wire says Did Mitt Romney just ma...</td>\n",
       "      <td>Middle-east</td>\n",
       "      <td>0</td>\n",
       "      <td>21st Century Wire says Did Mitt Romney just ma...</td>\n",
       "    </tr>\n",
       "    <tr>\n",
       "      <th>3</th>\n",
       "      <td>WASHINGTON (Reuters) - U.S. Attorney General J...</td>\n",
       "      <td>politicsNews</td>\n",
       "      <td>1</td>\n",
       "      <td>WASHINGTON (Reuters) - U.S. Attorney General J...</td>\n",
       "    </tr>\n",
       "    <tr>\n",
       "      <th>4</th>\n",
       "      <td>THE BIRTHPLACE OF FREE SPEECH IS NOW OFFICIALL...</td>\n",
       "      <td>left-news</td>\n",
       "      <td>0</td>\n",
       "      <td>THE BIRTHPLACE OF FREE SPEECH IS NOW OFFICIALL...</td>\n",
       "    </tr>\n",
       "    <tr>\n",
       "      <th>...</th>\n",
       "      <td>...</td>\n",
       "      <td>...</td>\n",
       "      <td>...</td>\n",
       "      <td>...</td>\n",
       "    </tr>\n",
       "    <tr>\n",
       "      <th>44892</th>\n",
       "      <td>BANGKOK (Reuters) - Thailand s military govern...</td>\n",
       "      <td>worldnews</td>\n",
       "      <td>1</td>\n",
       "      <td>BANGKOK (Reuters) - Thailand s military govern...</td>\n",
       "    </tr>\n",
       "    <tr>\n",
       "      <th>44893</th>\n",
       "      <td>MOSCOW (Reuters) - A foreign-policy adviser to...</td>\n",
       "      <td>politicsNews</td>\n",
       "      <td>1</td>\n",
       "      <td>MOSCOW (Reuters) - A foreign-policy adviser to...</td>\n",
       "    </tr>\n",
       "    <tr>\n",
       "      <th>44894</th>\n",
       "      <td>Donald Trump s statements are frightening to t...</td>\n",
       "      <td>News</td>\n",
       "      <td>0</td>\n",
       "      <td>Donald Trump s statements are frightening to t...</td>\n",
       "    </tr>\n",
       "    <tr>\n",
       "      <th>44895</th>\n",
       "      <td>LONDON (Reuters) -  Brexit is not a game,  the...</td>\n",
       "      <td>worldnews</td>\n",
       "      <td>1</td>\n",
       "      <td>LONDON (Reuters) -  Brexit is not a game,  the...</td>\n",
       "    </tr>\n",
       "    <tr>\n",
       "      <th>44896</th>\n",
       "      <td>BEIRUT (Reuters) - The U.S.-backed Syrian Demo...</td>\n",
       "      <td>worldnews</td>\n",
       "      <td>1</td>\n",
       "      <td>BEIRUT (Reuters) - The U.S.-backed Syrian Demo...</td>\n",
       "    </tr>\n",
       "  </tbody>\n",
       "</table>\n",
       "<p>44688 rows × 4 columns</p>\n",
       "</div>"
      ],
      "text/plain": [
       "                                                    text       subject  Label  \\\n",
       "0      NAIROBI (Reuters) - Kenya will not face a cons...     worldnews      1   \n",
       "1      BEIRUT (Reuters) - Three men blew themselves u...     worldnews      1   \n",
       "2      21st Century Wire says Did Mitt Romney just ma...   Middle-east      0   \n",
       "3      WASHINGTON (Reuters) - U.S. Attorney General J...  politicsNews      1   \n",
       "4      THE BIRTHPLACE OF FREE SPEECH IS NOW OFFICIALL...     left-news      0   \n",
       "...                                                  ...           ...    ...   \n",
       "44892  BANGKOK (Reuters) - Thailand s military govern...     worldnews      1   \n",
       "44893  MOSCOW (Reuters) - A foreign-policy adviser to...  politicsNews      1   \n",
       "44894  Donald Trump s statements are frightening to t...          News      0   \n",
       "44895  LONDON (Reuters) -  Brexit is not a game,  the...     worldnews      1   \n",
       "44896  BEIRUT (Reuters) - The U.S.-backed Syrian Demo...     worldnews      1   \n",
       "\n",
       "                                           complete_text  \n",
       "0      NAIROBI (Reuters) - Kenya will not face a cons...  \n",
       "1      BEIRUT (Reuters) - Three men blew themselves u...  \n",
       "2      21st Century Wire says Did Mitt Romney just ma...  \n",
       "3      WASHINGTON (Reuters) - U.S. Attorney General J...  \n",
       "4      THE BIRTHPLACE OF FREE SPEECH IS NOW OFFICIALL...  \n",
       "...                                                  ...  \n",
       "44892  BANGKOK (Reuters) - Thailand s military govern...  \n",
       "44893  MOSCOW (Reuters) - A foreign-policy adviser to...  \n",
       "44894  Donald Trump s statements are frightening to t...  \n",
       "44895  LONDON (Reuters) -  Brexit is not a game,  the...  \n",
       "44896  BEIRUT (Reuters) - The U.S.-backed Syrian Demo...  \n",
       "\n",
       "[44688 rows x 4 columns]"
      ]
     },
     "execution_count": 14,
     "metadata": {},
     "output_type": "execute_result"
    }
   ],
   "source": [
    "# new_df['complete_text'] = new_df['text'] + \" \" + new_df['subject']\n",
    "new_df['complete_text'] = new_df['text']\n",
    "new_df"
   ]
  },
  {
   "cell_type": "markdown",
   "id": "e4940063-ed32-41c7-84ee-b66f617a6efd",
   "metadata": {},
   "source": [
    "## Cleaning Text"
   ]
  },
  {
   "cell_type": "code",
   "execution_count": 15,
   "id": "9458f319-9e0e-4744-8593-626530063c4b",
   "metadata": {},
   "outputs": [],
   "source": [
    "# importing important libraries\n",
    "\n",
    "import re\n",
    "import nltk\n",
    "from nltk.stem.porter import PorterStemmer\n",
    "from nltk.corpus import stopwords\n",
    "from nltk.tokenize import word_tokenize"
   ]
  },
  {
   "cell_type": "code",
   "execution_count": 16,
   "id": "8255608c-438f-4683-8c81-669e8796f5d8",
   "metadata": {},
   "outputs": [],
   "source": [
    "def clean_text(text):\n",
    "    # Changing text to lower case\n",
    "    text_clean = text.lower()\n",
    "    # Removing unwanted characters but keeping spaces and words\n",
    "    text_clean = re.sub(r'[^a-zA-Z\\s]', '', text_clean)\n",
    "    \n",
    "    # Remove links\n",
    "    text = re.sub(r'http\\S+', '', text)    \n",
    "    \n",
    "    # Tokenizing the words\n",
    "    tokenize = word_tokenize(text_clean)\n",
    "    # Removing stopwords and stemming the words\n",
    "    stemmer = PorterStemmer()\n",
    "    stop_words = set(stopwords.words('english'))\n",
    "    stemming = [stemmer.stem(word) for word in tokenize if word not in stop_words]\n",
    "    cleaned_text = \" \".join(stemming)\n",
    "    \n",
    "    return cleaned_text"
   ]
  },
  {
   "cell_type": "code",
   "execution_count": 17,
   "id": "1619c4e9-07a5-431e-b3dc-c0d6eba5e575",
   "metadata": {},
   "outputs": [],
   "source": [
    "new_df['clean_text'] = new_df['text'].apply(clean_text)"
   ]
  },
  {
   "cell_type": "code",
   "execution_count": 18,
   "id": "6b001e62-5477-4c19-83e8-06747637e386",
   "metadata": {},
   "outputs": [
    {
     "data": {
      "text/html": [
       "<div>\n",
       "<style scoped>\n",
       "    .dataframe tbody tr th:only-of-type {\n",
       "        vertical-align: middle;\n",
       "    }\n",
       "\n",
       "    .dataframe tbody tr th {\n",
       "        vertical-align: top;\n",
       "    }\n",
       "\n",
       "    .dataframe thead th {\n",
       "        text-align: right;\n",
       "    }\n",
       "</style>\n",
       "<table border=\"1\" class=\"dataframe\">\n",
       "  <thead>\n",
       "    <tr style=\"text-align: right;\">\n",
       "      <th></th>\n",
       "      <th>text</th>\n",
       "      <th>subject</th>\n",
       "      <th>Label</th>\n",
       "      <th>complete_text</th>\n",
       "      <th>clean_text</th>\n",
       "    </tr>\n",
       "  </thead>\n",
       "  <tbody>\n",
       "    <tr>\n",
       "      <th>0</th>\n",
       "      <td>NAIROBI (Reuters) - Kenya will not face a cons...</td>\n",
       "      <td>worldnews</td>\n",
       "      <td>1</td>\n",
       "      <td>NAIROBI (Reuters) - Kenya will not face a cons...</td>\n",
       "      <td>nairobi reuter kenya face constitut polit cris...</td>\n",
       "    </tr>\n",
       "    <tr>\n",
       "      <th>1</th>\n",
       "      <td>BEIRUT (Reuters) - Three men blew themselves u...</td>\n",
       "      <td>worldnews</td>\n",
       "      <td>1</td>\n",
       "      <td>BEIRUT (Reuters) - Three men blew themselves u...</td>\n",
       "      <td>beirut reuter three men blew near polic headqu...</td>\n",
       "    </tr>\n",
       "    <tr>\n",
       "      <th>2</th>\n",
       "      <td>21st Century Wire says Did Mitt Romney just ma...</td>\n",
       "      <td>Middle-east</td>\n",
       "      <td>0</td>\n",
       "      <td>21st Century Wire says Did Mitt Romney just ma...</td>\n",
       "      <td>st centuri wire say mitt romney make incred mi...</td>\n",
       "    </tr>\n",
       "    <tr>\n",
       "      <th>3</th>\n",
       "      <td>WASHINGTON (Reuters) - U.S. Attorney General J...</td>\n",
       "      <td>politicsNews</td>\n",
       "      <td>1</td>\n",
       "      <td>WASHINGTON (Reuters) - U.S. Attorney General J...</td>\n",
       "      <td>washington reuter us attorney gener jeff sessi...</td>\n",
       "    </tr>\n",
       "    <tr>\n",
       "      <th>4</th>\n",
       "      <td>THE BIRTHPLACE OF FREE SPEECH IS NOW OFFICIALL...</td>\n",
       "      <td>left-news</td>\n",
       "      <td>0</td>\n",
       "      <td>THE BIRTHPLACE OF FREE SPEECH IS NOW OFFICIALL...</td>\n",
       "      <td>birthplac free speech offici place oppress ber...</td>\n",
       "    </tr>\n",
       "    <tr>\n",
       "      <th>...</th>\n",
       "      <td>...</td>\n",
       "      <td>...</td>\n",
       "      <td>...</td>\n",
       "      <td>...</td>\n",
       "      <td>...</td>\n",
       "    </tr>\n",
       "    <tr>\n",
       "      <th>44892</th>\n",
       "      <td>BANGKOK (Reuters) - Thailand s military govern...</td>\n",
       "      <td>worldnews</td>\n",
       "      <td>1</td>\n",
       "      <td>BANGKOK (Reuters) - Thailand s military govern...</td>\n",
       "      <td>bangkok reuter thailand militari govern tuesda...</td>\n",
       "    </tr>\n",
       "    <tr>\n",
       "      <th>44893</th>\n",
       "      <td>MOSCOW (Reuters) - A foreign-policy adviser to...</td>\n",
       "      <td>politicsNews</td>\n",
       "      <td>1</td>\n",
       "      <td>MOSCOW (Reuters) - A foreign-policy adviser to...</td>\n",
       "      <td>moscow reuter foreignpolici advis us president...</td>\n",
       "    </tr>\n",
       "    <tr>\n",
       "      <th>44894</th>\n",
       "      <td>Donald Trump s statements are frightening to t...</td>\n",
       "      <td>News</td>\n",
       "      <td>0</td>\n",
       "      <td>Donald Trump s statements are frightening to t...</td>\n",
       "      <td>donald trump statement frighten see danger ris...</td>\n",
       "    </tr>\n",
       "    <tr>\n",
       "      <th>44895</th>\n",
       "      <td>LONDON (Reuters) -  Brexit is not a game,  the...</td>\n",
       "      <td>worldnews</td>\n",
       "      <td>1</td>\n",
       "      <td>LONDON (Reuters) -  Brexit is not a game,  the...</td>\n",
       "      <td>london reuter brexit game european union chief...</td>\n",
       "    </tr>\n",
       "    <tr>\n",
       "      <th>44896</th>\n",
       "      <td>BEIRUT (Reuters) - The U.S.-backed Syrian Demo...</td>\n",
       "      <td>worldnews</td>\n",
       "      <td>1</td>\n",
       "      <td>BEIRUT (Reuters) - The U.S.-backed Syrian Demo...</td>\n",
       "      <td>beirut reuter usback syrian democrat forc sdf ...</td>\n",
       "    </tr>\n",
       "  </tbody>\n",
       "</table>\n",
       "<p>44688 rows × 5 columns</p>\n",
       "</div>"
      ],
      "text/plain": [
       "                                                    text       subject  Label  \\\n",
       "0      NAIROBI (Reuters) - Kenya will not face a cons...     worldnews      1   \n",
       "1      BEIRUT (Reuters) - Three men blew themselves u...     worldnews      1   \n",
       "2      21st Century Wire says Did Mitt Romney just ma...   Middle-east      0   \n",
       "3      WASHINGTON (Reuters) - U.S. Attorney General J...  politicsNews      1   \n",
       "4      THE BIRTHPLACE OF FREE SPEECH IS NOW OFFICIALL...     left-news      0   \n",
       "...                                                  ...           ...    ...   \n",
       "44892  BANGKOK (Reuters) - Thailand s military govern...     worldnews      1   \n",
       "44893  MOSCOW (Reuters) - A foreign-policy adviser to...  politicsNews      1   \n",
       "44894  Donald Trump s statements are frightening to t...          News      0   \n",
       "44895  LONDON (Reuters) -  Brexit is not a game,  the...     worldnews      1   \n",
       "44896  BEIRUT (Reuters) - The U.S.-backed Syrian Demo...     worldnews      1   \n",
       "\n",
       "                                           complete_text  \\\n",
       "0      NAIROBI (Reuters) - Kenya will not face a cons...   \n",
       "1      BEIRUT (Reuters) - Three men blew themselves u...   \n",
       "2      21st Century Wire says Did Mitt Romney just ma...   \n",
       "3      WASHINGTON (Reuters) - U.S. Attorney General J...   \n",
       "4      THE BIRTHPLACE OF FREE SPEECH IS NOW OFFICIALL...   \n",
       "...                                                  ...   \n",
       "44892  BANGKOK (Reuters) - Thailand s military govern...   \n",
       "44893  MOSCOW (Reuters) - A foreign-policy adviser to...   \n",
       "44894  Donald Trump s statements are frightening to t...   \n",
       "44895  LONDON (Reuters) -  Brexit is not a game,  the...   \n",
       "44896  BEIRUT (Reuters) - The U.S.-backed Syrian Demo...   \n",
       "\n",
       "                                              clean_text  \n",
       "0      nairobi reuter kenya face constitut polit cris...  \n",
       "1      beirut reuter three men blew near polic headqu...  \n",
       "2      st centuri wire say mitt romney make incred mi...  \n",
       "3      washington reuter us attorney gener jeff sessi...  \n",
       "4      birthplac free speech offici place oppress ber...  \n",
       "...                                                  ...  \n",
       "44892  bangkok reuter thailand militari govern tuesda...  \n",
       "44893  moscow reuter foreignpolici advis us president...  \n",
       "44894  donald trump statement frighten see danger ris...  \n",
       "44895  london reuter brexit game european union chief...  \n",
       "44896  beirut reuter usback syrian democrat forc sdf ...  \n",
       "\n",
       "[44688 rows x 5 columns]"
      ]
     },
     "execution_count": 18,
     "metadata": {},
     "output_type": "execute_result"
    }
   ],
   "source": [
    "new_df"
   ]
  },
  {
   "cell_type": "markdown",
   "id": "5ff439c4-a735-4eb6-b42e-f00347fc3d38",
   "metadata": {},
   "source": [
    "## Cheack through chatgpt if it is ok... if it is cleaning the data well"
   ]
  },
  {
   "cell_type": "code",
   "execution_count": 19,
   "id": "bb3f18a4-9deb-4347-80b0-24dbd7675cfc",
   "metadata": {},
   "outputs": [
    {
     "data": {
      "text/plain": [
       "'nairobi reuter kenya face constitut polit crisi even plan rerun presidenti elect set oct delay beyond end octob attorney gener said friday suprem court month annul presid uhuru kenyatta august elect win cite irregular order elect board organ new poll end octob kenyatta expect face opposit leader raila odinga odinga lead lawyer petit led invalid kenyatta reelect jame orengo said wednesday elect held end octob kenyatta term offic would ceas thrust countri deep constitut crisi govern offic legitim remain offic full forc constitut fresh elect complet new leader sworn githu muigai attorney gener told news confer delay poll delegitim constitut order day absolut chanc crisi around date elect take place insid elect cycl ad odinga nasa coalit said believ kenyatta term would end day suprem court rule sept nullifi august elect odinga said take part elect certain condit met includ remov elect board offici mose wetangula one nasa leader accus muigai misread constitut simpli mischiev wetangula told news confer also address odinga friday kenya region richest economi key western alli region often shaken violenc repeat elect close watch sign tension could spark violenc kenyan kill week kenyatta accus suprem court stage coup peopl annul win sign polit rhetor heat ahead new poll odinga accus kenyatta drag kenya path african state suffer upheav elect includ gambia ad opposit lost hope kenyatta would sober matur see need stop thursday elect board push back date elect rerun oct french firm whose technolog use poll said nearli imposs readi origin schedul date oct'"
      ]
     },
     "execution_count": 19,
     "metadata": {},
     "output_type": "execute_result"
    }
   ],
   "source": [
    "new_df['clean_text'][0]"
   ]
  },
  {
   "cell_type": "code",
   "execution_count": 20,
   "id": "2f149222-0472-4d0a-bf9e-23028039d527",
   "metadata": {},
   "outputs": [
    {
     "data": {
      "text/plain": [
       "'nairobi reuter kenya face constitut polit crisi even plan rerun presidenti elect set oct delay beyond end octob attorney gener said friday suprem court month annul presid uhuru kenyatta august elect win cite irregular order elect board organ new poll end octob kenyatta expect face opposit leader raila odinga odinga lead lawyer petit led invalid kenyatta reelect jame orengo said wednesday elect held end octob kenyatta term offic would ceas thrust countri deep constitut crisi govern offic legitim remain offic full forc constitut fresh elect complet new leader sworn githu muigai attorney gener told news confer delay poll delegitim constitut order day absolut chanc crisi around date elect take place insid elect cycl ad odinga nasa coalit said believ kenyatta term would end day suprem court rule sept nullifi august elect odinga said take part elect certain condit met includ remov elect board offici mose wetangula one nasa leader accus muigai misread constitut simpli mischiev wetangula told news confer also address odinga friday kenya region richest economi key western alli region often shaken violenc repeat elect close watch sign tension could spark violenc kenyan kill week kenyatta accus suprem court stage coup peopl annul win sign polit rhetor heat ahead new poll odinga accus kenyatta drag kenya path african state suffer upheav elect includ gambia ad opposit lost hope kenyatta would sober matur see need stop thursday elect board push back date elect rerun oct french firm whose technolog use poll said nearli imposs readi origin schedul date oct'"
      ]
     },
     "execution_count": 20,
     "metadata": {},
     "output_type": "execute_result"
    }
   ],
   "source": [
    "new_df['clean_text'][0]"
   ]
  },
  {
   "cell_type": "markdown",
   "id": "322630c8-eb15-491e-bb62-65b923cae17b",
   "metadata": {},
   "source": [
    "## Splitting the data"
   ]
  },
  {
   "cell_type": "code",
   "execution_count": 21,
   "id": "ee0a9c15-d1fa-44f3-8f98-befd3ec0f356",
   "metadata": {},
   "outputs": [],
   "source": [
    "X = new_df['clean_text'].values\n",
    "y = new_df['Label'].values"
   ]
  },
  {
   "cell_type": "code",
   "execution_count": 22,
   "id": "38a15ff8-cf5f-4ce6-ba7d-79d01ac5bae2",
   "metadata": {
    "scrolled": true
   },
   "outputs": [
    {
     "data": {
      "text/plain": [
       "array(['nairobi reuter kenya face constitut polit crisi even plan rerun presidenti elect set oct delay beyond end octob attorney gener said friday suprem court month annul presid uhuru kenyatta august elect win cite irregular order elect board organ new poll end octob kenyatta expect face opposit leader raila odinga odinga lead lawyer petit led invalid kenyatta reelect jame orengo said wednesday elect held end octob kenyatta term offic would ceas thrust countri deep constitut crisi govern offic legitim remain offic full forc constitut fresh elect complet new leader sworn githu muigai attorney gener told news confer delay poll delegitim constitut order day absolut chanc crisi around date elect take place insid elect cycl ad odinga nasa coalit said believ kenyatta term would end day suprem court rule sept nullifi august elect odinga said take part elect certain condit met includ remov elect board offici mose wetangula one nasa leader accus muigai misread constitut simpli mischiev wetangula told news confer also address odinga friday kenya region richest economi key western alli region often shaken violenc repeat elect close watch sign tension could spark violenc kenyan kill week kenyatta accus suprem court stage coup peopl annul win sign polit rhetor heat ahead new poll odinga accus kenyatta drag kenya path african state suffer upheav elect includ gambia ad opposit lost hope kenyatta would sober matur see need stop thursday elect board push back date elect rerun oct french firm whose technolog use poll said nearli imposs readi origin schedul date oct',\n",
       "       'beirut reuter three men blew near polic headquart central damascu wednesday kill two peopl injur six other state media said cite interior ministri islam state claim respons attack second month two suicid bomber tri storm polic center clash guard deton explos devic outsid khalid bin alwalid street damascu polic chief said polic forc chase third attack blew nearbi entranc cloth market investig ongo find came polic chief mohammad kheir ismail told state tv outsid headquart issu control islam state statement said three suicid bomber attack polic center machin gun explos belt islam state also claim respons earlier month similar suicid bomb attack polic station anoth part damascu peopl report dead damascu enjoy rel secur syria sixyear civil war rage nearbi across countri sever attack hit capit recent year includ car bomb kill peopl juli islam state tahrir alsham led milit formerli link al qaeda claim separ suicid blast kill score peopl damascu previous desper suicid attempt come respons victori syrian arab armi interior ministri fulli readi thwart terrorist act state televis quot interior minist mohammad alshaar say help russian jet iranback militia damascu govern push back rebel western syria shore rule main urban center recent month also march eastward islam state syrian troop alli forc recaptur sever suburb damascu rebel faction past year armi alli fight insurg jobar tarma district capit eastern outskirt',\n",
       "       'st centuri wire say mitt romney make incred mistakefox news contributor judg jeanin pirro unleash scath attack mitt romney recent move tri put halt donald trump presidenti run insurrect come mitt romney confirm mitt romney alway rememb one put us edg awok sleep giant silent major american peopl fact establish panick militari industri complex certainli panick trump republican frontrunn said want get along foreign countri particularli russia instead go war themwatch judg jeanin unload fail republican candid word choke elect follow videoget full stori year elect st centuri wire elect file',\n",
       "       ...,\n",
       "       'donald trump statement frighten see danger rise antic certainli theatric mayb fit perfectli amaz game throne mashup clipwatch video youtub httpswwwyoutubecomwatchvitetecmghi face along quot speech interview cut mashup hbo hit drama viewer get sens hilar well absurd donald trump seem trump fit quit well seven kingdom produc australian satirist huw parkinson video begin trump turn away daeneri targaryen citi quarthtrump later attack pope franci critic compliment say nice guy also said go build massiv wall negoti littefingeralthough video entertain also send strong messag absurd danger trump current stanc everyth ban muslim attack mexican immigr back actual power win presid danger commun bring power racist back thu far make america quit danger place featur imag via screenshot',\n",
       "       'london reuter brexit game european union chief negoti michel barnier told british report tuesday ask ball eu court make next move britain eu partner clash monday side make next move unblock talk side say ball side court',\n",
       "       'beirut reuter usback syrian democrat forc sdf said wednesday campaign captur raqqa islam state final stage fighter seiz percent citi statement sdf said open new front northern edg raqqa describ featur final stage euphrat wrath campaign near end'],\n",
       "      dtype=object)"
      ]
     },
     "execution_count": 22,
     "metadata": {},
     "output_type": "execute_result"
    }
   ],
   "source": [
    "X"
   ]
  },
  {
   "cell_type": "code",
   "execution_count": 23,
   "id": "0e3b766b-e711-42df-b600-653b29367806",
   "metadata": {},
   "outputs": [
    {
     "data": {
      "text/plain": [
       "array([1, 1, 0, ..., 0, 1, 1], dtype=int64)"
      ]
     },
     "execution_count": 23,
     "metadata": {},
     "output_type": "execute_result"
    }
   ],
   "source": [
    "y"
   ]
  },
  {
   "cell_type": "code",
   "execution_count": 24,
   "id": "321ac3d2-9122-442e-a471-5b730859e059",
   "metadata": {},
   "outputs": [],
   "source": [
    "# Fit the vectorizer only on the training data\n",
    "vectorizer = TfidfVectorizer(max_features=5000, ngram_range=(1,2))\n",
    "X = vectorizer.fit_transform(X)\n",
    "\n",
    "# Split the data into training and test sets before vectorizing\n",
    "X_train, X_test, y_train, y_test = train_test_split(X, y, test_size=0.3, random_state=42)\n"
   ]
  },
  {
   "cell_type": "code",
   "execution_count": 25,
   "id": "43594365-cde4-4bfb-b8c4-ce4b17bac979",
   "metadata": {
    "scrolled": true
   },
   "outputs": [
    {
     "name": "stdout",
     "output_type": "stream",
     "text": [
      "  (0, 3172)\t0.0870233321366273\n",
      "  (0, 4375)\t0.09346096639203631\n",
      "  (0, 2799)\t0.09045908249744908\n",
      "  (0, 3166)\t0.08209561296946435\n",
      "  (0, 334)\t0.17503811515449266\n",
      "  (0, 703)\t0.09841723900767932\n",
      "  (0, 3880)\t0.28113677121158004\n",
      "  (0, 4827)\t0.07738649065224525\n",
      "  (0, 2244)\t0.0756523049697635\n",
      "  (0, 1842)\t0.14536428853922656\n",
      "  (0, 1878)\t0.08190658188933861\n",
      "  (0, 1103)\t0.08590236682986224\n",
      "  (0, 1075)\t0.09241120237145782\n",
      "  (0, 2057)\t0.36896204324991955\n",
      "  (0, 1021)\t0.28169093245305904\n",
      "  (0, 4608)\t0.07007252706665879\n",
      "  (0, 4851)\t0.06731927206293617\n",
      "  (0, 1214)\t0.13635875693646982\n",
      "  (0, 3247)\t0.059799901631398054\n",
      "  (0, 3028)\t0.07105561013088026\n",
      "  (0, 1355)\t0.05223317869707448\n",
      "  (0, 2490)\t0.09301013465897397\n",
      "  (0, 1268)\t0.08492334952318409\n",
      "  (0, 1795)\t0.07777055523812831\n",
      "  (0, 3892)\t0.052080163230088766\n",
      "  :\t:\n",
      "  (13406, 1401)\t0.09496986213881191\n",
      "  (13406, 791)\t0.104907889536383\n",
      "  (13406, 4221)\t0.27760096752655555\n",
      "  (13406, 3591)\t0.11885028014378274\n",
      "  (13406, 2574)\t0.12738462661095182\n",
      "  (13406, 2497)\t0.06009590020613902\n",
      "  (13406, 4227)\t0.11961107984910647\n",
      "  (13406, 3312)\t0.294733787317123\n",
      "  (13406, 133)\t0.07214295734975153\n",
      "  (13406, 4436)\t0.09198526668748978\n",
      "  (13406, 4298)\t0.13697099031663898\n",
      "  (13406, 1037)\t0.2030087477944679\n",
      "  (13406, 287)\t0.09839305811118679\n",
      "  (13406, 2598)\t0.14319256554689527\n",
      "  (13406, 4870)\t0.07367670966730219\n",
      "  (13406, 2659)\t0.1515318696682956\n",
      "  (13406, 3525)\t0.05282288465298668\n",
      "  (13406, 3711)\t0.1092587649693637\n",
      "  (13406, 3846)\t0.13117182353085982\n",
      "  (13406, 100)\t0.09453789176390312\n",
      "  (13406, 4432)\t0.05213372003993724\n",
      "  (13406, 3239)\t0.04115146279823039\n",
      "  (13406, 1694)\t0.07209478050761765\n",
      "  (13406, 3699)\t0.06592497824994183\n",
      "  (13406, 3588)\t0.04324457646670028\n"
     ]
    }
   ],
   "source": [
    "print(X_test)"
   ]
  },
  {
   "cell_type": "markdown",
   "id": "13eea868-97be-4f55-92c3-deb72b869c65",
   "metadata": {},
   "source": [
    "## Model Selection\n",
    "\n",
    "* **Here should understand the Various Classification models with default values from these models we can choose top 4 with Highest Accuracy score and proceed with HyperParameter Tuning**"
   ]
  },
  {
   "cell_type": "code",
   "execution_count": 26,
   "id": "63992503-5ad8-446e-b9c2-3262fa9dc8e7",
   "metadata": {},
   "outputs": [],
   "source": [
    "from sklearn.tree import DecisionTreeClassifier\n",
    "from sklearn.svm import SVC\n",
    "from sklearn.linear_model import LogisticRegression\n",
    "from sklearn.neighbors import KNeighborsClassifier\n",
    "from sklearn.ensemble import RandomForestClassifier,GradientBoostingClassifier, AdaBoostClassifier\n",
    "from xgboost import XGBClassifier\n",
    "from catboost import CatBoostClassifier\n",
    "from sklearn.feature_extraction.text import TfidfVectorizer\n",
    "from sklearn.model_selection import train_test_split\n",
    "from sklearn.metrics import accuracy_score, classification_report, ConfusionMatrixDisplay, precision_score, f1_score,recall_score,roc_auc_score,roc_curve"
   ]
  },
  {
   "cell_type": "code",
   "execution_count": 27,
   "id": "617d634c-61a1-4618-9763-a48c491ff133",
   "metadata": {},
   "outputs": [],
   "source": [
    "def evaluate_clf(true, predicted):\n",
    "    acc = accuracy_score(true, predicted)\n",
    "    f1 = f1_score(true,predicted)\n",
    "    precision = precision_score(true, predicted)\n",
    "    recall = recall_score(true, predicted)\n",
    "    roc_auc = roc_auc_score(true,predicted)\n",
    "\n",
    "\n",
    "    return acc,f1,precision,recall,roc_auc"
   ]
  },
  {
   "cell_type": "code",
   "execution_count": 28,
   "id": "c13700fa-5454-4ad8-ac38-44282c938aeb",
   "metadata": {},
   "outputs": [],
   "source": [
    "# Initializing models which are neccessery for our model selection\n",
    "\n",
    "models = {\n",
    "    \"Random Forest\": RandomForestClassifier(),\n",
    "    \"Decision Tree\": DecisionTreeClassifier(),\n",
    "    \"Gradient Boosting\": GradientBoostingClassifier(),\n",
    "    \"Logistic Regression\": LogisticRegression(),\n",
    "    #\"K-Neighbors Classifier\": KNeighborsClassifier(),\n",
    "    \"XGBClassifier\": XGBClassifier(),\n",
    "    \"CatBoosting Classifier\": CatBoostClassifier(verbose=False),\n",
    "    \"AdaBoost Classifier\": AdaBoostClassifier()\n",
    "}"
   ]
  },
  {
   "cell_type": "code",
   "execution_count": 42,
   "id": "7a285351",
   "metadata": {},
   "outputs": [],
   "source": [
    "models = {\n",
    "    \"K-Neighbors Classifier\": KNeighborsClassifier(),\n",
    "}"
   ]
  },
  {
   "cell_type": "code",
   "execution_count": 43,
   "id": "cba14876-6f9a-4275-b875-7d8455ab9215",
   "metadata": {},
   "outputs": [],
   "source": [
    "def evaluate_model(X_train, X_test, y_train, y_test, models):\n",
    "    '''\n",
    "    This function takes in X and y and models dictionary as input\n",
    "    taking X and switching it into TFIDF vectors\n",
    "    It splits the data into Train Test split\n",
    "    Iterates through the given model dictionary and evaluates the metrics\n",
    "    Returns: Dataframe which contains report of all models metrics with cost\n",
    "    '''\n",
    "    models_list = []\n",
    "    accuracy_list = []\n",
    "    auc = []\n",
    "\n",
    "    for i in range(len(list(models))):\n",
    "        model = list(models.values())[i]\n",
    "        model.fit(X_train,y_train)\n",
    "\n",
    "        # makeing prediction\n",
    "        y_train_pred = model.predict(X_train)\n",
    "        y_test_pred = model.predict(X_test)\n",
    "\n",
    "        # training set performances\n",
    "        model_train_accuracy,model_train_f1,model_train_precision,\\\n",
    "        model_train_recall, model_train_rocauc_score = evaluate_clf(y_train, y_train_pred)\n",
    "\n",
    "        # test set performances\n",
    "        model_test_accuracy,model_test_f1,model_test_precision,\\\n",
    "        model_test_recall, model_test_rocauc_score = evaluate_clf(y_test, y_test_pred)\n",
    "\n",
    "        print(list(models.keys())[i])\n",
    "        models_list.append(list(models.keys())[i])\n",
    "\n",
    "        \n",
    "\n",
    "        print('Model performance for Training set')\n",
    "        print(\"- Accuracy: {:.4f}\".format(model_train_accuracy))\n",
    "        print('- F1 score: {:.4f}'.format(model_train_f1)) \n",
    "        print('- Precision: {:.4f}'.format(model_train_precision))\n",
    "        print('- Recall: {:.4f}'.format(model_train_recall))\n",
    "        print('- Roc Auc Score: {:.4f}'.format(model_train_rocauc_score))\n",
    "\n",
    "        print('----------------------------------')\n",
    "\n",
    "        print('Model performance for Test set')\n",
    "        print('- Accuracy: {:.4f}'.format(model_test_accuracy))\n",
    "        accuracy_list.append(model_test_accuracy)\n",
    "        print('- F1 score: {:.4f}'.format(model_test_f1))\n",
    "        print('- Precision: {:.4f}'.format(model_test_precision))\n",
    "        print('- Recall: {:.4f}'.format(model_test_recall))\n",
    "        print('- Roc Auc Score: {:.4f}'.format(model_test_rocauc_score))\n",
    "        auc.append(model_test_rocauc_score)\n",
    "        print('='*35)\n",
    "        print('\\n')\n",
    "\n",
    "    report = pd.DataFrame(list(zip(models_list, accuracy_list)), columns= ['Model Name', 'Accuracy']).sort_values(by = ['Accuracy'], ascending=False)\n",
    "\n",
    "    return report"
   ]
  },
  {
   "cell_type": "code",
   "execution_count": 44,
   "id": "febdcef9-0530-4008-93b4-0e551fd5aa57",
   "metadata": {
    "scrolled": true
   },
   "outputs": [
    {
     "name": "stdout",
     "output_type": "stream",
     "text": [
      "K-Neighbors Classifier\n",
      "Model performance for Training set\n",
      "- Accuracy: 0.7578\n",
      "- F1 score: 0.6670\n",
      "- Precision: 0.9554\n",
      "- Recall: 0.5124\n",
      "- Roc Auc Score: 0.7454\n",
      "----------------------------------\n",
      "Model performance for Test set\n",
      "- Accuracy: 0.7160\n",
      "- F1 score: 0.5960\n",
      "- Precision: 0.9274\n",
      "- Recall: 0.4391\n",
      "- Roc Auc Score: 0.7039\n",
      "===================================\n",
      "\n",
      "\n"
     ]
    }
   ],
   "source": [
    "base_report = evaluate_model(X_train, X_test, y_train, y_test, models)"
   ]
  },
  {
   "cell_type": "code",
   "execution_count": 45,
   "id": "2d605223-5926-4855-92a3-1664d1596514",
   "metadata": {},
   "outputs": [
    {
     "data": {
      "text/html": [
       "<div>\n",
       "<style scoped>\n",
       "    .dataframe tbody tr th:only-of-type {\n",
       "        vertical-align: middle;\n",
       "    }\n",
       "\n",
       "    .dataframe tbody tr th {\n",
       "        vertical-align: top;\n",
       "    }\n",
       "\n",
       "    .dataframe thead th {\n",
       "        text-align: right;\n",
       "    }\n",
       "</style>\n",
       "<table border=\"1\" class=\"dataframe\">\n",
       "  <thead>\n",
       "    <tr style=\"text-align: right;\">\n",
       "      <th></th>\n",
       "      <th>Model Name</th>\n",
       "      <th>Accuracy</th>\n",
       "    </tr>\n",
       "  </thead>\n",
       "  <tbody>\n",
       "    <tr>\n",
       "      <th>0</th>\n",
       "      <td>K-Neighbors Classifier</td>\n",
       "      <td>0.715969</td>\n",
       "    </tr>\n",
       "  </tbody>\n",
       "</table>\n",
       "</div>"
      ],
      "text/plain": [
       "               Model Name  Accuracy\n",
       "0  K-Neighbors Classifier  0.715969"
      ]
     },
     "execution_count": 45,
     "metadata": {},
     "output_type": "execute_result"
    }
   ],
   "source": [
    "base_report"
   ]
  },
  {
   "cell_type": "markdown",
   "id": "8c85fe39-1d27-4a5a-8c12-c71e93a056a1",
   "metadata": {},
   "source": [
    "## XGBClassifier accuracy is highest among other classifiers"
   ]
  },
  {
   "cell_type": "code",
   "execution_count": null,
   "id": "d8809353-55a7-442a-8c51-f8749bb7fba1",
   "metadata": {},
   "outputs": [],
   "source": []
  },
  {
   "cell_type": "code",
   "execution_count": 46,
   "id": "a1f82061-3a4e-44e0-98b1-eaa67b8d9671",
   "metadata": {},
   "outputs": [
    {
     "name": "stdout",
     "output_type": "stream",
     "text": [
      "Cross-validation scores: [0.99474155 0.99574849 0.99653166 0.99653127 0.99451718]\n",
      "Mean cross-validation score: 0.9956140310684776\n"
     ]
    }
   ],
   "source": [
    "from sklearn.model_selection import cross_val_score, KFold\n",
    "\n",
    "# Initialize the model\n",
    "model = AdaBoostClassifier()\n",
    "\n",
    "# Set up k-fold cross-validation\n",
    "k = 5  # Number of folds\n",
    "kf = KFold(n_splits=k, shuffle=True, random_state=42)\n",
    "\n",
    "# Perform cross-validation\n",
    "scores = cross_val_score(model, X, y, cv=kf)\n",
    "\n",
    "# Print cross-validation scores\n",
    "print(f\"Cross-validation scores: {scores}\")\n",
    "print(f\"Mean cross-validation score: {np.mean(scores)}\")"
   ]
  },
  {
   "cell_type": "code",
   "execution_count": 47,
   "id": "96a8c094-43a1-418c-87ec-19716fac49ee",
   "metadata": {
    "scrolled": true
   },
   "outputs": [
    {
     "data": {
      "text/html": [
       "<style>#sk-container-id-2 {color: black;}#sk-container-id-2 pre{padding: 0;}#sk-container-id-2 div.sk-toggleable {background-color: white;}#sk-container-id-2 label.sk-toggleable__label {cursor: pointer;display: block;width: 100%;margin-bottom: 0;padding: 0.3em;box-sizing: border-box;text-align: center;}#sk-container-id-2 label.sk-toggleable__label-arrow:before {content: \"▸\";float: left;margin-right: 0.25em;color: #696969;}#sk-container-id-2 label.sk-toggleable__label-arrow:hover:before {color: black;}#sk-container-id-2 div.sk-estimator:hover label.sk-toggleable__label-arrow:before {color: black;}#sk-container-id-2 div.sk-toggleable__content {max-height: 0;max-width: 0;overflow: hidden;text-align: left;background-color: #f0f8ff;}#sk-container-id-2 div.sk-toggleable__content pre {margin: 0.2em;color: black;border-radius: 0.25em;background-color: #f0f8ff;}#sk-container-id-2 input.sk-toggleable__control:checked~div.sk-toggleable__content {max-height: 200px;max-width: 100%;overflow: auto;}#sk-container-id-2 input.sk-toggleable__control:checked~label.sk-toggleable__label-arrow:before {content: \"▾\";}#sk-container-id-2 div.sk-estimator input.sk-toggleable__control:checked~label.sk-toggleable__label {background-color: #d4ebff;}#sk-container-id-2 div.sk-label input.sk-toggleable__control:checked~label.sk-toggleable__label {background-color: #d4ebff;}#sk-container-id-2 input.sk-hidden--visually {border: 0;clip: rect(1px 1px 1px 1px);clip: rect(1px, 1px, 1px, 1px);height: 1px;margin: -1px;overflow: hidden;padding: 0;position: absolute;width: 1px;}#sk-container-id-2 div.sk-estimator {font-family: monospace;background-color: #f0f8ff;border: 1px dotted black;border-radius: 0.25em;box-sizing: border-box;margin-bottom: 0.5em;}#sk-container-id-2 div.sk-estimator:hover {background-color: #d4ebff;}#sk-container-id-2 div.sk-parallel-item::after {content: \"\";width: 100%;border-bottom: 1px solid gray;flex-grow: 1;}#sk-container-id-2 div.sk-label:hover label.sk-toggleable__label {background-color: #d4ebff;}#sk-container-id-2 div.sk-serial::before {content: \"\";position: absolute;border-left: 1px solid gray;box-sizing: border-box;top: 0;bottom: 0;left: 50%;z-index: 0;}#sk-container-id-2 div.sk-serial {display: flex;flex-direction: column;align-items: center;background-color: white;padding-right: 0.2em;padding-left: 0.2em;position: relative;}#sk-container-id-2 div.sk-item {position: relative;z-index: 1;}#sk-container-id-2 div.sk-parallel {display: flex;align-items: stretch;justify-content: center;background-color: white;position: relative;}#sk-container-id-2 div.sk-item::before, #sk-container-id-2 div.sk-parallel-item::before {content: \"\";position: absolute;border-left: 1px solid gray;box-sizing: border-box;top: 0;bottom: 0;left: 50%;z-index: -1;}#sk-container-id-2 div.sk-parallel-item {display: flex;flex-direction: column;z-index: 1;position: relative;background-color: white;}#sk-container-id-2 div.sk-parallel-item:first-child::after {align-self: flex-end;width: 50%;}#sk-container-id-2 div.sk-parallel-item:last-child::after {align-self: flex-start;width: 50%;}#sk-container-id-2 div.sk-parallel-item:only-child::after {width: 0;}#sk-container-id-2 div.sk-dashed-wrapped {border: 1px dashed gray;margin: 0 0.4em 0.5em 0.4em;box-sizing: border-box;padding-bottom: 0.4em;background-color: white;}#sk-container-id-2 div.sk-label label {font-family: monospace;font-weight: bold;display: inline-block;line-height: 1.2em;}#sk-container-id-2 div.sk-label-container {text-align: center;}#sk-container-id-2 div.sk-container {/* jupyter's `normalize.less` sets `[hidden] { display: none; }` but bootstrap.min.css set `[hidden] { display: none !important; }` so we also need the `!important` here to be able to override the default hidden behavior on the sphinx rendered scikit-learn.org. See: https://github.com/scikit-learn/scikit-learn/issues/21755 */display: inline-block !important;position: relative;}#sk-container-id-2 div.sk-text-repr-fallback {display: none;}</style><div id=\"sk-container-id-2\" class=\"sk-top-container\"><div class=\"sk-text-repr-fallback\"><pre>XGBClassifier(base_score=None, booster=None, callbacks=None,\n",
       "              colsample_bylevel=None, colsample_bynode=None,\n",
       "              colsample_bytree=None, device=None, early_stopping_rounds=None,\n",
       "              enable_categorical=False, eval_metric=None, feature_types=None,\n",
       "              gamma=None, grow_policy=None, importance_type=None,\n",
       "              interaction_constraints=None, learning_rate=None, max_bin=None,\n",
       "              max_cat_threshold=None, max_cat_to_onehot=None,\n",
       "              max_delta_step=None, max_depth=None, max_leaves=None,\n",
       "              min_child_weight=None, missing=nan, monotone_constraints=None,\n",
       "              multi_strategy=None, n_estimators=None, n_jobs=None,\n",
       "              num_parallel_tree=None, random_state=None, ...)</pre><b>In a Jupyter environment, please rerun this cell to show the HTML representation or trust the notebook. <br />On GitHub, the HTML representation is unable to render, please try loading this page with nbviewer.org.</b></div><div class=\"sk-container\" hidden><div class=\"sk-item\"><div class=\"sk-estimator sk-toggleable\"><input class=\"sk-toggleable__control sk-hidden--visually\" id=\"sk-estimator-id-2\" type=\"checkbox\" checked><label for=\"sk-estimator-id-2\" class=\"sk-toggleable__label sk-toggleable__label-arrow\">XGBClassifier</label><div class=\"sk-toggleable__content\"><pre>XGBClassifier(base_score=None, booster=None, callbacks=None,\n",
       "              colsample_bylevel=None, colsample_bynode=None,\n",
       "              colsample_bytree=None, device=None, early_stopping_rounds=None,\n",
       "              enable_categorical=False, eval_metric=None, feature_types=None,\n",
       "              gamma=None, grow_policy=None, importance_type=None,\n",
       "              interaction_constraints=None, learning_rate=None, max_bin=None,\n",
       "              max_cat_threshold=None, max_cat_to_onehot=None,\n",
       "              max_delta_step=None, max_depth=None, max_leaves=None,\n",
       "              min_child_weight=None, missing=nan, monotone_constraints=None,\n",
       "              multi_strategy=None, n_estimators=None, n_jobs=None,\n",
       "              num_parallel_tree=None, random_state=None, ...)</pre></div></div></div></div></div>"
      ],
      "text/plain": [
       "XGBClassifier(base_score=None, booster=None, callbacks=None,\n",
       "              colsample_bylevel=None, colsample_bynode=None,\n",
       "              colsample_bytree=None, device=None, early_stopping_rounds=None,\n",
       "              enable_categorical=False, eval_metric=None, feature_types=None,\n",
       "              gamma=None, grow_policy=None, importance_type=None,\n",
       "              interaction_constraints=None, learning_rate=None, max_bin=None,\n",
       "              max_cat_threshold=None, max_cat_to_onehot=None,\n",
       "              max_delta_step=None, max_depth=None, max_leaves=None,\n",
       "              min_child_weight=None, missing=nan, monotone_constraints=None,\n",
       "              multi_strategy=None, n_estimators=None, n_jobs=None,\n",
       "              num_parallel_tree=None, random_state=None, ...)"
      ]
     },
     "execution_count": 47,
     "metadata": {},
     "output_type": "execute_result"
    }
   ],
   "source": [
    "model = XGBClassifier()\n",
    "model.fit(X_train,y_train)"
   ]
  },
  {
   "cell_type": "code",
   "execution_count": 48,
   "id": "ce1c45cc-e05e-4642-aac3-b2c9c31df2da",
   "metadata": {},
   "outputs": [
    {
     "name": "stdout",
     "output_type": "stream",
     "text": [
      "1.0\n"
     ]
    }
   ],
   "source": [
    "train_predict = model.predict(X_train)\n",
    "print(accuracy_score(y_train,train_predict))"
   ]
  },
  {
   "cell_type": "code",
   "execution_count": 49,
   "id": "7fee34ad-4f84-4ba4-a926-8d0909424ca5",
   "metadata": {},
   "outputs": [
    {
     "name": "stdout",
     "output_type": "stream",
     "text": [
      "0.9972402476318342\n"
     ]
    }
   ],
   "source": [
    "test_predict = model.predict(X_test)\n",
    "print(accuracy_score(y_test,test_predict))"
   ]
  },
  {
   "cell_type": "code",
   "execution_count": 50,
   "id": "0524d234-74af-4971-ba6f-629681227677",
   "metadata": {},
   "outputs": [
    {
     "name": "stdout",
     "output_type": "stream",
     "text": [
      "Prediction: fake\n"
     ]
    }
   ],
   "source": [
    "def predict_fake_or_real(text):\n",
    "    cleaned_text = clean_text(text)\n",
    "    \n",
    "    text_tfidf = vectorizer.transform([cleaned_text])\n",
    "    \n",
    "    prediction = model.predict(text_tfidf)\n",
    "\n",
    "    # Map prediction to label\n",
    "    label = \"fake\" if prediction[0] == 0 else \"real\"\n",
    "    \n",
    "    return label\n",
    "# Example usage:\n",
    "input_text = 'iran say bias french stanc threaten middl east stabil worldnew'\n",
    "\n",
    "\n",
    "prediction = predict_fake_or_real(input_text)\n",
    "print(\"Prediction:\", prediction)"
   ]
  },
  {
   "cell_type": "code",
   "execution_count": 51,
   "id": "54af0de0-220b-4f8d-bfab-a69bdde95980",
   "metadata": {},
   "outputs": [
    {
     "data": {
      "text/plain": [
       "0        nairobi reuter kenya face constitut polit cris...\n",
       "1        beirut reuter three men blew near polic headqu...\n",
       "3        washington reuter us attorney gener jeff sessi...\n",
       "6        milan reuter pope franci sunday call world lea...\n",
       "7        london reuter britain princ georg greatgrandso...\n",
       "                               ...                        \n",
       "44891    moscow reuter russian presid vladimir putin su...\n",
       "44892    bangkok reuter thailand militari govern tuesda...\n",
       "44893    moscow reuter foreignpolici advis us president...\n",
       "44895    london reuter brexit game european union chief...\n",
       "44896    beirut reuter usback syrian democrat forc sdf ...\n",
       "Name: clean_text, Length: 21210, dtype: object"
      ]
     },
     "execution_count": 51,
     "metadata": {},
     "output_type": "execute_result"
    }
   ],
   "source": [
    "new_df[new_df['Label'] == 1]['clean_text']"
   ]
  },
  {
   "cell_type": "code",
   "execution_count": 52,
   "id": "65e3e256-719c-4365-9a03-172a5ed8df4f",
   "metadata": {},
   "outputs": [
    {
     "data": {
      "text/plain": [
       "'beirut reuter three men blew near polic headquart central damascu wednesday kill two peopl injur six other state media said cite interior ministri islam state claim respons attack second month two suicid bomber tri storm polic center clash guard deton explos devic outsid khalid bin alwalid street damascu polic chief said polic forc chase third attack blew nearbi entranc cloth market investig ongo find came polic chief mohammad kheir ismail told state tv outsid headquart issu control islam state statement said three suicid bomber attack polic center machin gun explos belt islam state also claim respons earlier month similar suicid bomb attack polic station anoth part damascu peopl report dead damascu enjoy rel secur syria sixyear civil war rage nearbi across countri sever attack hit capit recent year includ car bomb kill peopl juli islam state tahrir alsham led milit formerli link al qaeda claim separ suicid blast kill score peopl damascu previous desper suicid attempt come respons victori syrian arab armi interior ministri fulli readi thwart terrorist act state televis quot interior minist mohammad alshaar say help russian jet iranback militia damascu govern push back rebel western syria shore rule main urban center recent month also march eastward islam state syrian troop alli forc recaptur sever suburb damascu rebel faction past year armi alli fight insurg jobar tarma district capit eastern outskirt'"
      ]
     },
     "execution_count": 52,
     "metadata": {},
     "output_type": "execute_result"
    }
   ],
   "source": [
    "new_df['clean_text'][1]"
   ]
  },
  {
   "cell_type": "code",
   "execution_count": 53,
   "id": "02464037-656a-4025-9ef4-ef2822ed7aaa",
   "metadata": {},
   "outputs": [
    {
     "data": {
      "text/plain": [
       "2        st centuri wire say mitt romney make incred mi...\n",
       "4        birthplac free speech offici place oppress ber...\n",
       "5        annual white hous easter egg hunt presid trump...\n",
       "8        hill releas controversi comment sore loser rin...\n",
       "9        amateur presid donald trump sent threaten twee...\n",
       "                               ...                        \n",
       "44882    donald trump piss new york time mistak bit ass...\n",
       "44883                                                     \n",
       "44884    disrespect teacher sherman jr senior high scho...\n",
       "44889    donald trump disastr decis take unit state par...\n",
       "44894    donald trump statement frighten see danger ris...\n",
       "Name: clean_text, Length: 23478, dtype: object"
      ]
     },
     "execution_count": 53,
     "metadata": {},
     "output_type": "execute_result"
    }
   ],
   "source": [
    "new_df[new_df['Label'] == 0]['clean_text']"
   ]
  },
  {
   "cell_type": "code",
   "execution_count": 54,
   "id": "2e69168b-3f09-40cb-ae42-773dc9b35b04",
   "metadata": {},
   "outputs": [
    {
     "data": {
      "text/plain": [
       "'nairobi reuter kenya face constitut polit crisi even plan rerun presidenti elect set oct delay beyond end octob attorney gener said friday suprem court month annul presid uhuru kenyatta august elect win cite irregular order elect board organ new poll end octob kenyatta expect face opposit leader raila odinga odinga lead lawyer petit led invalid kenyatta reelect jame orengo said wednesday elect held end octob kenyatta term offic would ceas thrust countri deep constitut crisi govern offic legitim remain offic full forc constitut fresh elect complet new leader sworn githu muigai attorney gener told news confer delay poll delegitim constitut order day absolut chanc crisi around date elect take place insid elect cycl ad odinga nasa coalit said believ kenyatta term would end day suprem court rule sept nullifi august elect odinga said take part elect certain condit met includ remov elect board offici mose wetangula one nasa leader accus muigai misread constitut simpli mischiev wetangula told news confer also address odinga friday kenya region richest economi key western alli region often shaken violenc repeat elect close watch sign tension could spark violenc kenyan kill week kenyatta accus suprem court stage coup peopl annul win sign polit rhetor heat ahead new poll odinga accus kenyatta drag kenya path african state suffer upheav elect includ gambia ad opposit lost hope kenyatta would sober matur see need stop thursday elect board push back date elect rerun oct french firm whose technolog use poll said nearli imposs readi origin schedul date oct'"
      ]
     },
     "execution_count": 54,
     "metadata": {},
     "output_type": "execute_result"
    }
   ],
   "source": [
    "new_df['clean_text'][0]"
   ]
  },
  {
   "cell_type": "code",
   "execution_count": 55,
   "id": "705a532e-539a-4992-8c2c-44044c041211",
   "metadata": {},
   "outputs": [
    {
     "data": {
      "text/plain": [
       "Index(['text', 'subject', 'Label', 'complete_text', 'clean_text'], dtype='object')"
      ]
     },
     "execution_count": 55,
     "metadata": {},
     "output_type": "execute_result"
    }
   ],
   "source": [
    "new_df.columns"
   ]
  },
  {
   "cell_type": "code",
   "execution_count": null,
   "id": "6aebc118",
   "metadata": {},
   "outputs": [],
   "source": []
  }
 ],
 "metadata": {
  "kernelspec": {
   "display_name": "Python 3 (ipykernel)",
   "language": "python",
   "name": "python3"
  },
  "language_info": {
   "codemirror_mode": {
    "name": "ipython",
    "version": 3
   },
   "file_extension": ".py",
   "mimetype": "text/x-python",
   "name": "python",
   "nbconvert_exporter": "python",
   "pygments_lexer": "ipython3",
   "version": "3.8.10"
  }
 },
 "nbformat": 4,
 "nbformat_minor": 5
}
